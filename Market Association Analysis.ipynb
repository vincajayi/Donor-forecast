{
 "cells": [
  {
   "cell_type": "code",
   "execution_count": 1,
   "metadata": {
    "collapsed": true
   },
   "outputs": [],
   "source": [
    "%matplotlib inline\n",
    "import datetime as dt\n",
    "import pyodbc \n",
    "import pandas as pd\n",
    "import numpy as np \n",
    "import matplotlib.pyplot as plt\n",
    "from mlxtend.frequent_patterns import apriori\n",
    "from mlxtend.frequent_patterns import association_rules\n",
    "# data colelction and preprocessing"
   ]
  },
  {
   "cell_type": "code",
   "execution_count": 5,
   "metadata": {
    "collapsed": true
   },
   "outputs": [],
   "source": [
    "#Create a connection from Python to SQL\n",
    "cnxn = pyodbc.connect(\"Driver={SQL Server Native Client 11.0};\"\n",
    "                      \"Server=HP;\"\n",
    "                      \"Database=AdventureWorks2014;\"\n",
    "                      \"Trusted_Connection=yes;\")"
   ]
  },
  {
   "cell_type": "code",
   "execution_count": 150,
   "metadata": {},
   "outputs": [],
   "source": [
    "data = pd.read_sql_query(\"\"\"\n",
    "select [CustomerID],\n",
    "sso.[OrderDate] as  Invoicedate,\n",
    "ssd.[UnitPrice],\n",
    "ssd.ProductID as stockcode,\n",
    "ssc.[Quantity],\n",
    "sso.PurchaseOrderNumber as invioceNo,\n",
    "sso.SalesOrderNumber as salesInivoice,\n",
    "pp.name,\n",
    "tery.[Name] as country\n",
    "from [Sales].[SalesOrderHeader] as sso\n",
    "inner join [Sales].[SalesTerritory] as tery\n",
    "on tery.[TerritoryID] = sso.[TerritoryID]\n",
    "inner join [Sales].[SalesOrderDetail] as ssd\n",
    "on sso.[SalesOrderID] = ssd.[SalesOrderID]\n",
    "left join [Sales].[ShoppingCartItem] as ssc\n",
    "on ssc.ProductID = ssd.ProductID\n",
    "left join [Production].[Product] as pp\n",
    "on pp.[ProductID] = ssc.ProductID\n",
    "left join [Production].[ProductModelProductDescriptionCulture] as ppm\n",
    "on ppm.ProductModelID = pp.ProductModelID\n",
    "inner join [Production].[ProductDescription] as pdd\n",
    "on pdd.ProductDescriptionID = ppm.ProductDescriptionID\n",
    "\n",
    "\"\"\", cnxn)\n"
   ]
  },
  {
   "cell_type": "code",
   "execution_count": 151,
   "metadata": {},
   "outputs": [
    {
     "data": {
      "text/html": [
       "<div>\n",
       "<style>\n",
       "    .dataframe thead tr:only-child th {\n",
       "        text-align: right;\n",
       "    }\n",
       "\n",
       "    .dataframe thead th {\n",
       "        text-align: left;\n",
       "    }\n",
       "\n",
       "    .dataframe tbody tr th {\n",
       "        vertical-align: top;\n",
       "    }\n",
       "</style>\n",
       "<table border=\"1\" class=\"dataframe\">\n",
       "  <thead>\n",
       "    <tr style=\"text-align: right;\">\n",
       "      <th></th>\n",
       "      <th>CustomerID</th>\n",
       "      <th>Invoicedate</th>\n",
       "      <th>UnitPrice</th>\n",
       "      <th>stockcode</th>\n",
       "      <th>Quantity</th>\n",
       "      <th>invioceNo</th>\n",
       "      <th>salesInivoice</th>\n",
       "      <th>name</th>\n",
       "      <th>country</th>\n",
       "    </tr>\n",
       "  </thead>\n",
       "  <tbody>\n",
       "    <tr>\n",
       "      <th>0</th>\n",
       "      <td>29825</td>\n",
       "      <td>2012-05-30</td>\n",
       "      <td>22.0342</td>\n",
       "      <td>862</td>\n",
       "      <td>3</td>\n",
       "      <td>PO522154989</td>\n",
       "      <td>SO46604</td>\n",
       "      <td>Full-Finger Gloves, M</td>\n",
       "      <td>Southeast</td>\n",
       "    </tr>\n",
       "    <tr>\n",
       "      <th>1</th>\n",
       "      <td>29825</td>\n",
       "      <td>2012-05-30</td>\n",
       "      <td>22.0342</td>\n",
       "      <td>862</td>\n",
       "      <td>3</td>\n",
       "      <td>PO522154989</td>\n",
       "      <td>SO46604</td>\n",
       "      <td>Full-Finger Gloves, M</td>\n",
       "      <td>Southeast</td>\n",
       "    </tr>\n",
       "    <tr>\n",
       "      <th>2</th>\n",
       "      <td>29825</td>\n",
       "      <td>2012-05-30</td>\n",
       "      <td>22.0342</td>\n",
       "      <td>862</td>\n",
       "      <td>3</td>\n",
       "      <td>PO522154989</td>\n",
       "      <td>SO46604</td>\n",
       "      <td>Full-Finger Gloves, M</td>\n",
       "      <td>Southeast</td>\n",
       "    </tr>\n",
       "    <tr>\n",
       "      <th>3</th>\n",
       "      <td>29825</td>\n",
       "      <td>2012-05-30</td>\n",
       "      <td>22.0342</td>\n",
       "      <td>862</td>\n",
       "      <td>3</td>\n",
       "      <td>PO522154989</td>\n",
       "      <td>SO46604</td>\n",
       "      <td>Full-Finger Gloves, M</td>\n",
       "      <td>Southeast</td>\n",
       "    </tr>\n",
       "    <tr>\n",
       "      <th>4</th>\n",
       "      <td>29825</td>\n",
       "      <td>2012-05-30</td>\n",
       "      <td>22.0342</td>\n",
       "      <td>862</td>\n",
       "      <td>3</td>\n",
       "      <td>PO522154989</td>\n",
       "      <td>SO46604</td>\n",
       "      <td>Full-Finger Gloves, M</td>\n",
       "      <td>Southeast</td>\n",
       "    </tr>\n",
       "  </tbody>\n",
       "</table>\n",
       "</div>"
      ],
      "text/plain": [
       "   CustomerID Invoicedate  UnitPrice  stockcode  Quantity    invioceNo  \\\n",
       "0       29825  2012-05-30    22.0342        862         3  PO522154989   \n",
       "1       29825  2012-05-30    22.0342        862         3  PO522154989   \n",
       "2       29825  2012-05-30    22.0342        862         3  PO522154989   \n",
       "3       29825  2012-05-30    22.0342        862         3  PO522154989   \n",
       "4       29825  2012-05-30    22.0342        862         3  PO522154989   \n",
       "\n",
       "  salesInivoice                   name    country  \n",
       "0       SO46604  Full-Finger Gloves, M  Southeast  \n",
       "1       SO46604  Full-Finger Gloves, M  Southeast  \n",
       "2       SO46604  Full-Finger Gloves, M  Southeast  \n",
       "3       SO46604  Full-Finger Gloves, M  Southeast  \n",
       "4       SO46604  Full-Finger Gloves, M  Southeast  "
      ]
     },
     "execution_count": 151,
     "metadata": {},
     "output_type": "execute_result"
    }
   ],
   "source": [
    "data.head()"
   ]
  },
  {
   "cell_type": "code",
   "execution_count": 152,
   "metadata": {},
   "outputs": [
    {
     "data": {
      "text/html": [
       "<div>\n",
       "<style>\n",
       "    .dataframe thead tr:only-child th {\n",
       "        text-align: right;\n",
       "    }\n",
       "\n",
       "    .dataframe thead th {\n",
       "        text-align: left;\n",
       "    }\n",
       "\n",
       "    .dataframe tbody tr th {\n",
       "        vertical-align: top;\n",
       "    }\n",
       "</style>\n",
       "<table border=\"1\" class=\"dataframe\">\n",
       "  <thead>\n",
       "    <tr style=\"text-align: right;\">\n",
       "      <th></th>\n",
       "      <th>CustomerID</th>\n",
       "      <th>Invoicedate</th>\n",
       "      <th>UnitPrice</th>\n",
       "      <th>stockcode</th>\n",
       "      <th>Quantity</th>\n",
       "      <th>invioceNo</th>\n",
       "      <th>salesInivoice</th>\n",
       "      <th>name</th>\n",
       "      <th>country</th>\n",
       "    </tr>\n",
       "  </thead>\n",
       "  <tbody>\n",
       "    <tr>\n",
       "      <th>10009</th>\n",
       "      <td>11657</td>\n",
       "      <td>2014-06-30</td>\n",
       "      <td>53.99</td>\n",
       "      <td>881</td>\n",
       "      <td>4</td>\n",
       "      <td>None</td>\n",
       "      <td>SO75095</td>\n",
       "      <td>Short-Sleeve Classic Jersey, S</td>\n",
       "      <td>Southwest</td>\n",
       "    </tr>\n",
       "    <tr>\n",
       "      <th>10010</th>\n",
       "      <td>11657</td>\n",
       "      <td>2014-06-30</td>\n",
       "      <td>53.99</td>\n",
       "      <td>881</td>\n",
       "      <td>4</td>\n",
       "      <td>None</td>\n",
       "      <td>SO75095</td>\n",
       "      <td>Short-Sleeve Classic Jersey, S</td>\n",
       "      <td>Southwest</td>\n",
       "    </tr>\n",
       "    <tr>\n",
       "      <th>10011</th>\n",
       "      <td>11657</td>\n",
       "      <td>2014-06-30</td>\n",
       "      <td>53.99</td>\n",
       "      <td>881</td>\n",
       "      <td>4</td>\n",
       "      <td>None</td>\n",
       "      <td>SO75095</td>\n",
       "      <td>Short-Sleeve Classic Jersey, S</td>\n",
       "      <td>Southwest</td>\n",
       "    </tr>\n",
       "    <tr>\n",
       "      <th>10012</th>\n",
       "      <td>11657</td>\n",
       "      <td>2014-06-30</td>\n",
       "      <td>53.99</td>\n",
       "      <td>881</td>\n",
       "      <td>4</td>\n",
       "      <td>None</td>\n",
       "      <td>SO75095</td>\n",
       "      <td>Short-Sleeve Classic Jersey, S</td>\n",
       "      <td>Southwest</td>\n",
       "    </tr>\n",
       "    <tr>\n",
       "      <th>10013</th>\n",
       "      <td>11657</td>\n",
       "      <td>2014-06-30</td>\n",
       "      <td>53.99</td>\n",
       "      <td>881</td>\n",
       "      <td>4</td>\n",
       "      <td>None</td>\n",
       "      <td>SO75095</td>\n",
       "      <td>Short-Sleeve Classic Jersey, S</td>\n",
       "      <td>Southwest</td>\n",
       "    </tr>\n",
       "  </tbody>\n",
       "</table>\n",
       "</div>"
      ],
      "text/plain": [
       "       CustomerID Invoicedate  UnitPrice  stockcode  Quantity invioceNo  \\\n",
       "10009       11657  2014-06-30      53.99        881         4      None   \n",
       "10010       11657  2014-06-30      53.99        881         4      None   \n",
       "10011       11657  2014-06-30      53.99        881         4      None   \n",
       "10012       11657  2014-06-30      53.99        881         4      None   \n",
       "10013       11657  2014-06-30      53.99        881         4      None   \n",
       "\n",
       "      salesInivoice                            name    country  \n",
       "10009       SO75095  Short-Sleeve Classic Jersey, S  Southwest  \n",
       "10010       SO75095  Short-Sleeve Classic Jersey, S  Southwest  \n",
       "10011       SO75095  Short-Sleeve Classic Jersey, S  Southwest  \n",
       "10012       SO75095  Short-Sleeve Classic Jersey, S  Southwest  \n",
       "10013       SO75095  Short-Sleeve Classic Jersey, S  Southwest  "
      ]
     },
     "execution_count": 152,
     "metadata": {},
     "output_type": "execute_result"
    }
   ],
   "source": [
    "data.tail()"
   ]
  },
  {
   "cell_type": "code",
   "execution_count": 153,
   "metadata": {},
   "outputs": [],
   "source": [
    "data['name'] = data['name'].str.strip()\n",
    "data.dropna(axis=0, subset=['salesInivoice'], inplace=True)\n",
    "data['salesInivoice'] = data['salesInivoice'].astype('str')\n",
    "data = data[~data['salesInivoice'].str.contains('C')]"
   ]
  },
  {
   "cell_type": "code",
   "execution_count": 154,
   "metadata": {
    "collapsed": true
   },
   "outputs": [],
   "source": [
    "basket = (data[data['country'] ==\"France\"]\n",
    "          .groupby(['salesInivoice', 'name'])['Quantity']\n",
    "          .sum().unstack().reset_index().fillna(0)\n",
    "          .set_index('salesInivoice'))"
   ]
  },
  {
   "cell_type": "code",
   "execution_count": 155,
   "metadata": {},
   "outputs": [
    {
     "data": {
      "text/html": [
       "<div>\n",
       "<style>\n",
       "    .dataframe thead tr:only-child th {\n",
       "        text-align: right;\n",
       "    }\n",
       "\n",
       "    .dataframe thead th {\n",
       "        text-align: left;\n",
       "    }\n",
       "\n",
       "    .dataframe tbody tr th {\n",
       "        vertical-align: top;\n",
       "    }\n",
       "</style>\n",
       "<table border=\"1\" class=\"dataframe\">\n",
       "  <thead>\n",
       "    <tr style=\"text-align: right;\">\n",
       "      <th>name</th>\n",
       "      <th>Full-Finger Gloves, M</th>\n",
       "      <th>Racing Socks, M</th>\n",
       "      <th>Short-Sleeve Classic Jersey, S</th>\n",
       "    </tr>\n",
       "    <tr>\n",
       "      <th>salesInivoice</th>\n",
       "      <th></th>\n",
       "      <th></th>\n",
       "      <th></th>\n",
       "    </tr>\n",
       "  </thead>\n",
       "  <tbody>\n",
       "    <tr>\n",
       "      <th>SO46626</th>\n",
       "      <td>18.0</td>\n",
       "      <td>0.0</td>\n",
       "      <td>0.0</td>\n",
       "    </tr>\n",
       "    <tr>\n",
       "      <th>SO46627</th>\n",
       "      <td>18.0</td>\n",
       "      <td>0.0</td>\n",
       "      <td>0.0</td>\n",
       "    </tr>\n",
       "    <tr>\n",
       "      <th>SO46941</th>\n",
       "      <td>18.0</td>\n",
       "      <td>0.0</td>\n",
       "      <td>0.0</td>\n",
       "    </tr>\n",
       "    <tr>\n",
       "      <th>SO46985</th>\n",
       "      <td>18.0</td>\n",
       "      <td>0.0</td>\n",
       "      <td>0.0</td>\n",
       "    </tr>\n",
       "    <tr>\n",
       "      <th>SO46987</th>\n",
       "      <td>18.0</td>\n",
       "      <td>0.0</td>\n",
       "      <td>0.0</td>\n",
       "    </tr>\n",
       "  </tbody>\n",
       "</table>\n",
       "</div>"
      ],
      "text/plain": [
       "name           Full-Finger Gloves, M  Racing Socks, M  \\\n",
       "salesInivoice                                           \n",
       "SO46626                         18.0              0.0   \n",
       "SO46627                         18.0              0.0   \n",
       "SO46941                         18.0              0.0   \n",
       "SO46985                         18.0              0.0   \n",
       "SO46987                         18.0              0.0   \n",
       "\n",
       "name           Short-Sleeve Classic Jersey, S  \n",
       "salesInivoice                                  \n",
       "SO46626                                   0.0  \n",
       "SO46627                                   0.0  \n",
       "SO46941                                   0.0  \n",
       "SO46985                                   0.0  \n",
       "SO46987                                   0.0  "
      ]
     },
     "execution_count": 155,
     "metadata": {},
     "output_type": "execute_result"
    }
   ],
   "source": [
    "\n",
    "basket.head()"
   ]
  },
  {
   "cell_type": "code",
   "execution_count": 156,
   "metadata": {
    "collapsed": true
   },
   "outputs": [],
   "source": [
    "\n",
    "# Convert the units to 1 hot encoded values\n",
    "def encode_units(x):\n",
    "    if x <= 0:\n",
    "        return 0\n",
    "    if x >= 1:\n",
    "        return 1"
   ]
  },
  {
   "cell_type": "code",
   "execution_count": 146,
   "metadata": {
    "collapsed": true
   },
   "outputs": [],
   "source": [
    "\n",
    "basket_sets = basket.applymap(encode_units)"
   ]
  },
  {
   "cell_type": "code",
   "execution_count": 157,
   "metadata": {},
   "outputs": [],
   "source": [
    "\n",
    "# Build up the frequent items\n",
    "frequent_itemsets = apriori(basket_sets, min_support=0.00, use_colnames=True)"
   ]
  },
  {
   "cell_type": "code",
   "execution_count": 158,
   "metadata": {},
   "outputs": [
    {
     "data": {
      "text/html": [
       "<div>\n",
       "<style>\n",
       "    .dataframe thead tr:only-child th {\n",
       "        text-align: right;\n",
       "    }\n",
       "\n",
       "    .dataframe thead th {\n",
       "        text-align: left;\n",
       "    }\n",
       "\n",
       "    .dataframe tbody tr th {\n",
       "        vertical-align: top;\n",
       "    }\n",
       "</style>\n",
       "<table border=\"1\" class=\"dataframe\">\n",
       "  <thead>\n",
       "    <tr style=\"text-align: right;\">\n",
       "      <th></th>\n",
       "      <th>support</th>\n",
       "      <th>itemsets</th>\n",
       "    </tr>\n",
       "  </thead>\n",
       "  <tbody>\n",
       "    <tr>\n",
       "      <th>0</th>\n",
       "      <td>0.209091</td>\n",
       "      <td>(Full-Finger Gloves, M)</td>\n",
       "    </tr>\n",
       "    <tr>\n",
       "      <th>1</th>\n",
       "      <td>0.327273</td>\n",
       "      <td>(Racing Socks, M)</td>\n",
       "    </tr>\n",
       "    <tr>\n",
       "      <th>2</th>\n",
       "      <td>0.509091</td>\n",
       "      <td>(Short-Sleeve Classic Jersey, S)</td>\n",
       "    </tr>\n",
       "    <tr>\n",
       "      <th>3</th>\n",
       "      <td>0.000000</td>\n",
       "      <td>(Full-Finger Gloves, M, Racing Socks, M)</td>\n",
       "    </tr>\n",
       "    <tr>\n",
       "      <th>4</th>\n",
       "      <td>0.000000</td>\n",
       "      <td>(Short-Sleeve Classic Jersey, S, Full-Finger G...</td>\n",
       "    </tr>\n",
       "  </tbody>\n",
       "</table>\n",
       "</div>"
      ],
      "text/plain": [
       "    support                                           itemsets\n",
       "0  0.209091                            (Full-Finger Gloves, M)\n",
       "1  0.327273                                  (Racing Socks, M)\n",
       "2  0.509091                   (Short-Sleeve Classic Jersey, S)\n",
       "3  0.000000           (Full-Finger Gloves, M, Racing Socks, M)\n",
       "4  0.000000  (Short-Sleeve Classic Jersey, S, Full-Finger G..."
      ]
     },
     "execution_count": 158,
     "metadata": {},
     "output_type": "execute_result"
    }
   ],
   "source": [
    "\n",
    "frequent_itemsets.head()"
   ]
  },
  {
   "cell_type": "code",
   "execution_count": 159,
   "metadata": {},
   "outputs": [
    {
     "name": "stderr",
     "output_type": "stream",
     "text": [
      "C:\\Users\\Ajay\\Anaconda3\\lib\\site-packages\\mlxtend\\frequent_patterns\\association_rules.py:105: RuntimeWarning: invalid value encountered in double_scalars\n",
      "  \"confidence\": lambda sAC, sA, _: sAC/sA,\n",
      "C:\\Users\\Ajay\\Anaconda3\\lib\\site-packages\\mlxtend\\frequent_patterns\\association_rules.py:106: RuntimeWarning: invalid value encountered in double_scalars\n",
      "  \"lift\": lambda sAC, sA, sC: metric_dict[\"confidence\"](sAC, sA, sC)/sC,\n"
     ]
    },
    {
     "data": {
      "text/html": [
       "<div>\n",
       "<style>\n",
       "    .dataframe thead tr:only-child th {\n",
       "        text-align: right;\n",
       "    }\n",
       "\n",
       "    .dataframe thead th {\n",
       "        text-align: left;\n",
       "    }\n",
       "\n",
       "    .dataframe tbody tr th {\n",
       "        vertical-align: top;\n",
       "    }\n",
       "</style>\n",
       "<table border=\"1\" class=\"dataframe\">\n",
       "  <thead>\n",
       "    <tr style=\"text-align: right;\">\n",
       "      <th></th>\n",
       "      <th>antecedents</th>\n",
       "      <th>consequents</th>\n",
       "      <th>antecedent support</th>\n",
       "      <th>consequent support</th>\n",
       "      <th>support</th>\n",
       "      <th>confidence</th>\n",
       "      <th>lift</th>\n",
       "      <th>leverage</th>\n",
       "      <th>conviction</th>\n",
       "    </tr>\n",
       "  </thead>\n",
       "  <tbody>\n",
       "    <tr>\n",
       "      <th>0</th>\n",
       "      <td>(Full-Finger Gloves, M)</td>\n",
       "      <td>(Racing Socks, M)</td>\n",
       "      <td>0.209091</td>\n",
       "      <td>0.327273</td>\n",
       "      <td>0.000000</td>\n",
       "      <td>0.000000</td>\n",
       "      <td>0.000000</td>\n",
       "      <td>-0.068430</td>\n",
       "      <td>0.672727</td>\n",
       "    </tr>\n",
       "    <tr>\n",
       "      <th>1</th>\n",
       "      <td>(Racing Socks, M)</td>\n",
       "      <td>(Full-Finger Gloves, M)</td>\n",
       "      <td>0.327273</td>\n",
       "      <td>0.209091</td>\n",
       "      <td>0.000000</td>\n",
       "      <td>0.000000</td>\n",
       "      <td>0.000000</td>\n",
       "      <td>-0.068430</td>\n",
       "      <td>0.790909</td>\n",
       "    </tr>\n",
       "    <tr>\n",
       "      <th>2</th>\n",
       "      <td>(Short-Sleeve Classic Jersey, S)</td>\n",
       "      <td>(Full-Finger Gloves, M)</td>\n",
       "      <td>0.509091</td>\n",
       "      <td>0.209091</td>\n",
       "      <td>0.000000</td>\n",
       "      <td>0.000000</td>\n",
       "      <td>0.000000</td>\n",
       "      <td>-0.106446</td>\n",
       "      <td>0.790909</td>\n",
       "    </tr>\n",
       "    <tr>\n",
       "      <th>3</th>\n",
       "      <td>(Full-Finger Gloves, M)</td>\n",
       "      <td>(Short-Sleeve Classic Jersey, S)</td>\n",
       "      <td>0.209091</td>\n",
       "      <td>0.509091</td>\n",
       "      <td>0.000000</td>\n",
       "      <td>0.000000</td>\n",
       "      <td>0.000000</td>\n",
       "      <td>-0.106446</td>\n",
       "      <td>0.490909</td>\n",
       "    </tr>\n",
       "    <tr>\n",
       "      <th>4</th>\n",
       "      <td>(Short-Sleeve Classic Jersey, S)</td>\n",
       "      <td>(Racing Socks, M)</td>\n",
       "      <td>0.509091</td>\n",
       "      <td>0.327273</td>\n",
       "      <td>0.045455</td>\n",
       "      <td>0.089286</td>\n",
       "      <td>0.272817</td>\n",
       "      <td>-0.121157</td>\n",
       "      <td>0.738681</td>\n",
       "    </tr>\n",
       "    <tr>\n",
       "      <th>5</th>\n",
       "      <td>(Racing Socks, M)</td>\n",
       "      <td>(Short-Sleeve Classic Jersey, S)</td>\n",
       "      <td>0.327273</td>\n",
       "      <td>0.509091</td>\n",
       "      <td>0.045455</td>\n",
       "      <td>0.138889</td>\n",
       "      <td>0.272817</td>\n",
       "      <td>-0.121157</td>\n",
       "      <td>0.570088</td>\n",
       "    </tr>\n",
       "    <tr>\n",
       "      <th>6</th>\n",
       "      <td>(Short-Sleeve Classic Jersey, S, Racing Socks, M)</td>\n",
       "      <td>(Full-Finger Gloves, M)</td>\n",
       "      <td>0.045455</td>\n",
       "      <td>0.209091</td>\n",
       "      <td>0.000000</td>\n",
       "      <td>0.000000</td>\n",
       "      <td>0.000000</td>\n",
       "      <td>-0.009504</td>\n",
       "      <td>0.790909</td>\n",
       "    </tr>\n",
       "    <tr>\n",
       "      <th>7</th>\n",
       "      <td>(Full-Finger Gloves, M)</td>\n",
       "      <td>(Short-Sleeve Classic Jersey, S, Racing Socks, M)</td>\n",
       "      <td>0.209091</td>\n",
       "      <td>0.045455</td>\n",
       "      <td>0.000000</td>\n",
       "      <td>0.000000</td>\n",
       "      <td>0.000000</td>\n",
       "      <td>-0.009504</td>\n",
       "      <td>0.954545</td>\n",
       "    </tr>\n",
       "  </tbody>\n",
       "</table>\n",
       "</div>"
      ],
      "text/plain": [
       "                                         antecedents  \\\n",
       "0                            (Full-Finger Gloves, M)   \n",
       "1                                  (Racing Socks, M)   \n",
       "2                   (Short-Sleeve Classic Jersey, S)   \n",
       "3                            (Full-Finger Gloves, M)   \n",
       "4                   (Short-Sleeve Classic Jersey, S)   \n",
       "5                                  (Racing Socks, M)   \n",
       "6  (Short-Sleeve Classic Jersey, S, Racing Socks, M)   \n",
       "7                            (Full-Finger Gloves, M)   \n",
       "\n",
       "                                         consequents  antecedent support  \\\n",
       "0                                  (Racing Socks, M)            0.209091   \n",
       "1                            (Full-Finger Gloves, M)            0.327273   \n",
       "2                            (Full-Finger Gloves, M)            0.509091   \n",
       "3                   (Short-Sleeve Classic Jersey, S)            0.209091   \n",
       "4                                  (Racing Socks, M)            0.509091   \n",
       "5                   (Short-Sleeve Classic Jersey, S)            0.327273   \n",
       "6                            (Full-Finger Gloves, M)            0.045455   \n",
       "7  (Short-Sleeve Classic Jersey, S, Racing Socks, M)            0.209091   \n",
       "\n",
       "   consequent support   support  confidence      lift  leverage  conviction  \n",
       "0            0.327273  0.000000    0.000000  0.000000 -0.068430    0.672727  \n",
       "1            0.209091  0.000000    0.000000  0.000000 -0.068430    0.790909  \n",
       "2            0.209091  0.000000    0.000000  0.000000 -0.106446    0.790909  \n",
       "3            0.509091  0.000000    0.000000  0.000000 -0.106446    0.490909  \n",
       "4            0.327273  0.045455    0.089286  0.272817 -0.121157    0.738681  \n",
       "5            0.509091  0.045455    0.138889  0.272817 -0.121157    0.570088  \n",
       "6            0.209091  0.000000    0.000000  0.000000 -0.009504    0.790909  \n",
       "7            0.045455  0.000000    0.000000  0.000000 -0.009504    0.954545  "
      ]
     },
     "execution_count": 159,
     "metadata": {},
     "output_type": "execute_result"
    }
   ],
   "source": [
    "\n",
    "# Create the rules\n",
    "rules = association_rules(frequent_itemsets, metric=\"lift\", min_threshold=0.00)\n",
    "rules"
   ]
  },
  {
   "cell_type": "markdown",
   "metadata": {},
   "source": [
    "From the above table, the high lift value means that the product occurs more frequently than would be expected given the number of transaction and product combinations."
   ]
  },
  {
   "cell_type": "code",
   "execution_count": 161,
   "metadata": {},
   "outputs": [
    {
     "data": {
      "text/html": [
       "<div>\n",
       "<style>\n",
       "    .dataframe thead tr:only-child th {\n",
       "        text-align: right;\n",
       "    }\n",
       "\n",
       "    .dataframe thead th {\n",
       "        text-align: left;\n",
       "    }\n",
       "\n",
       "    .dataframe tbody tr th {\n",
       "        vertical-align: top;\n",
       "    }\n",
       "</style>\n",
       "<table border=\"1\" class=\"dataframe\">\n",
       "  <thead>\n",
       "    <tr style=\"text-align: right;\">\n",
       "      <th></th>\n",
       "      <th>antecedents</th>\n",
       "      <th>consequents</th>\n",
       "      <th>antecedent support</th>\n",
       "      <th>consequent support</th>\n",
       "      <th>support</th>\n",
       "      <th>confidence</th>\n",
       "      <th>lift</th>\n",
       "      <th>leverage</th>\n",
       "      <th>conviction</th>\n",
       "    </tr>\n",
       "  </thead>\n",
       "  <tbody>\n",
       "    <tr>\n",
       "      <th>4</th>\n",
       "      <td>(Short-Sleeve Classic Jersey, S)</td>\n",
       "      <td>(Racing Socks, M)</td>\n",
       "      <td>0.509091</td>\n",
       "      <td>0.327273</td>\n",
       "      <td>0.045455</td>\n",
       "      <td>0.089286</td>\n",
       "      <td>0.272817</td>\n",
       "      <td>-0.121157</td>\n",
       "      <td>0.738681</td>\n",
       "    </tr>\n",
       "    <tr>\n",
       "      <th>5</th>\n",
       "      <td>(Racing Socks, M)</td>\n",
       "      <td>(Short-Sleeve Classic Jersey, S)</td>\n",
       "      <td>0.327273</td>\n",
       "      <td>0.509091</td>\n",
       "      <td>0.045455</td>\n",
       "      <td>0.138889</td>\n",
       "      <td>0.272817</td>\n",
       "      <td>-0.121157</td>\n",
       "      <td>0.570088</td>\n",
       "    </tr>\n",
       "  </tbody>\n",
       "</table>\n",
       "</div>"
      ],
      "text/plain": [
       "                        antecedents                       consequents  \\\n",
       "4  (Short-Sleeve Classic Jersey, S)                 (Racing Socks, M)   \n",
       "5                 (Racing Socks, M)  (Short-Sleeve Classic Jersey, S)   \n",
       "\n",
       "   antecedent support  consequent support   support  confidence      lift  \\\n",
       "4            0.509091            0.327273  0.045455    0.089286  0.272817   \n",
       "5            0.327273            0.509091  0.045455    0.138889  0.272817   \n",
       "\n",
       "   leverage  conviction  \n",
       "4 -0.121157    0.738681  \n",
       "5 -0.121157    0.570088  "
      ]
     },
     "execution_count": 161,
     "metadata": {},
     "output_type": "execute_result"
    }
   ],
   "source": [
    "# In this section, I filter the table and look where the  lift  is above (0) and the confidence is baove (.5)\n",
    "rules[ (rules['lift'] >= 0.00) &\n",
    "       (rules['confidence'] >= 0.05) ]"
   ]
  },
  {
   "cell_type": "markdown",
   "metadata": {},
   "source": [
    "In looking at the rules, it appears that Short-Sleeve Classic Jersey and Racing Socks are purchased together. \n",
    "\n",
    "The question is that how much would provide the opportunity of buying the Racing Socks would drive sales of Short-Sleeve Classic Jersey or vice versa? \n"
   ]
  },
  {
   "cell_type": "code",
   "execution_count": 163,
   "metadata": {},
   "outputs": [
    {
     "data": {
      "text/plain": [
       "1344.0"
      ]
     },
     "execution_count": 163,
     "metadata": {},
     "output_type": "execute_result"
    }
   ],
   "source": [
    "basket['Short-Sleeve Classic Jersey, S'].sum()\n"
   ]
  },
  {
   "cell_type": "code",
   "execution_count": 164,
   "metadata": {},
   "outputs": [
    {
     "data": {
      "text/plain": [
       "1512.0"
      ]
     },
     "execution_count": 164,
     "metadata": {},
     "output_type": "execute_result"
    }
   ],
   "source": [
    "basket['Racing Socks, M'].sum()"
   ]
  },
  {
   "cell_type": "markdown",
   "metadata": {},
   "source": [
    "This result implies that, if we sell 1512 of the racing socks, 1344 of Short-Sleeve Classic Jersey may likely buy by the same customer in France through recommendations. "
   ]
  },
  {
   "cell_type": "code",
   "execution_count": null,
   "metadata": {
    "collapsed": true
   },
   "outputs": [],
   "source": []
  },
  {
   "cell_type": "markdown",
   "metadata": {},
   "source": [
    "What is also interesting is to see how the combinations vary by country of purchase. Let’s check out what some popular combinations might be in Australia:"
   ]
  },
  {
   "cell_type": "code",
   "execution_count": 170,
   "metadata": {
    "collapsed": true
   },
   "outputs": [],
   "source": [
    "basket2 = (data[data['country'] == \"Australia\"]\n",
    "          .groupby(['salesInivoice', 'name'])['Quantity']\n",
    "          .sum().unstack().reset_index().fillna(0)\n",
    "          .set_index('salesInivoice'))"
   ]
  },
  {
   "cell_type": "code",
   "execution_count": 172,
   "metadata": {},
   "outputs": [
    {
     "data": {
      "text/html": [
       "<div>\n",
       "<style>\n",
       "    .dataframe thead tr:only-child th {\n",
       "        text-align: right;\n",
       "    }\n",
       "\n",
       "    .dataframe thead th {\n",
       "        text-align: left;\n",
       "    }\n",
       "\n",
       "    .dataframe tbody tr th {\n",
       "        vertical-align: top;\n",
       "    }\n",
       "</style>\n",
       "<table border=\"1\" class=\"dataframe\">\n",
       "  <thead>\n",
       "    <tr style=\"text-align: right;\">\n",
       "      <th></th>\n",
       "      <th>antecedents</th>\n",
       "      <th>consequents</th>\n",
       "      <th>antecedent support</th>\n",
       "      <th>consequent support</th>\n",
       "      <th>support</th>\n",
       "      <th>confidence</th>\n",
       "      <th>lift</th>\n",
       "      <th>leverage</th>\n",
       "      <th>conviction</th>\n",
       "    </tr>\n",
       "  </thead>\n",
       "  <tbody>\n",
       "  </tbody>\n",
       "</table>\n",
       "</div>"
      ],
      "text/plain": [
       "Empty DataFrame\n",
       "Columns: [antecedents, consequents, antecedent support, consequent support, support, confidence, lift, leverage, conviction]\n",
       "Index: []"
      ]
     },
     "execution_count": 172,
     "metadata": {},
     "output_type": "execute_result"
    }
   ],
   "source": [
    "rules2[ (rules2['lift'] >= 0.00) &\n",
    "        (rules2['confidence'] >= 0.05)]"
   ]
  },
  {
   "cell_type": "code",
   "execution_count": 181,
   "metadata": {},
   "outputs": [
    {
     "name": "stderr",
     "output_type": "stream",
     "text": [
      "C:\\Users\\Ajay\\Anaconda3\\lib\\site-packages\\mlxtend\\frequent_patterns\\association_rules.py:105: RuntimeWarning: invalid value encountered in double_scalars\n",
      "  \"confidence\": lambda sAC, sA, _: sAC/sA,\n",
      "C:\\Users\\Ajay\\Anaconda3\\lib\\site-packages\\mlxtend\\frequent_patterns\\association_rules.py:106: RuntimeWarning: invalid value encountered in double_scalars\n",
      "  \"lift\": lambda sAC, sA, sC: metric_dict[\"confidence\"](sAC, sA, sC)/sC,\n"
     ]
    },
    {
     "data": {
      "text/html": [
       "<div>\n",
       "<style>\n",
       "    .dataframe thead tr:only-child th {\n",
       "        text-align: right;\n",
       "    }\n",
       "\n",
       "    .dataframe thead th {\n",
       "        text-align: left;\n",
       "    }\n",
       "\n",
       "    .dataframe tbody tr th {\n",
       "        vertical-align: top;\n",
       "    }\n",
       "</style>\n",
       "<table border=\"1\" class=\"dataframe\">\n",
       "  <thead>\n",
       "    <tr style=\"text-align: right;\">\n",
       "      <th></th>\n",
       "      <th>antecedents</th>\n",
       "      <th>consequents</th>\n",
       "      <th>antecedent support</th>\n",
       "      <th>consequent support</th>\n",
       "      <th>support</th>\n",
       "      <th>confidence</th>\n",
       "      <th>lift</th>\n",
       "      <th>leverage</th>\n",
       "      <th>conviction</th>\n",
       "    </tr>\n",
       "  </thead>\n",
       "  <tbody>\n",
       "    <tr>\n",
       "      <th>4</th>\n",
       "      <td>(Short-Sleeve Classic Jersey, S)</td>\n",
       "      <td>(Racing Socks, M)</td>\n",
       "      <td>0.375000</td>\n",
       "      <td>0.382812</td>\n",
       "      <td>0.058594</td>\n",
       "      <td>0.156250</td>\n",
       "      <td>0.408163</td>\n",
       "      <td>-0.084961</td>\n",
       "      <td>0.731481</td>\n",
       "    </tr>\n",
       "    <tr>\n",
       "      <th>5</th>\n",
       "      <td>(Racing Socks, M)</td>\n",
       "      <td>(Short-Sleeve Classic Jersey, S)</td>\n",
       "      <td>0.382812</td>\n",
       "      <td>0.375000</td>\n",
       "      <td>0.058594</td>\n",
       "      <td>0.153061</td>\n",
       "      <td>0.408163</td>\n",
       "      <td>-0.084961</td>\n",
       "      <td>0.737952</td>\n",
       "    </tr>\n",
       "  </tbody>\n",
       "</table>\n",
       "</div>"
      ],
      "text/plain": [
       "                        antecedents                       consequents  \\\n",
       "4  (Short-Sleeve Classic Jersey, S)                 (Racing Socks, M)   \n",
       "5                 (Racing Socks, M)  (Short-Sleeve Classic Jersey, S)   \n",
       "\n",
       "   antecedent support  consequent support   support  confidence      lift  \\\n",
       "4            0.375000            0.382812  0.058594    0.156250  0.408163   \n",
       "5            0.382812            0.375000  0.058594    0.153061  0.408163   \n",
       "\n",
       "   leverage  conviction  \n",
       "4 -0.084961    0.731481  \n",
       "5 -0.084961    0.737952  "
      ]
     },
     "execution_count": 181,
     "metadata": {},
     "output_type": "execute_result"
    }
   ],
   "source": [
    "basket2 = (data[data['country'] == \"Canada\"]\n",
    "          .groupby(['salesInivoice', 'name'])['Quantity']\n",
    "          .sum().unstack().reset_index().fillna(0)\n",
    "          .set_index('salesInivoice'))\n",
    "\n",
    "basket_sets2 = basket2.applymap(encode_units)\n",
    "frequent_itemsets2 = apriori(basket_sets2, min_support=0.00, use_colnames=True)\n",
    "rules2 = association_rules(frequent_itemsets2, metric=\"lift\", min_threshold=0.00)\n",
    "\n",
    "rules2[ (rules2['lift'] >= 0.00) &\n",
    "        (rules2['confidence'] >= 0.05)]"
   ]
  },
  {
   "cell_type": "code",
   "execution_count": 182,
   "metadata": {},
   "outputs": [
    {
     "data": {
      "text/plain": [
       "2304.0"
      ]
     },
     "execution_count": 182,
     "metadata": {},
     "output_type": "execute_result"
    }
   ],
   "source": [
    "basket2['Short-Sleeve Classic Jersey, S'].sum()\n"
   ]
  },
  {
   "cell_type": "code",
   "execution_count": 183,
   "metadata": {},
   "outputs": [
    {
     "data": {
      "text/plain": [
       "4116.0"
      ]
     },
     "execution_count": 183,
     "metadata": {},
     "output_type": "execute_result"
    }
   ],
   "source": [
    "basket2['Racing Socks, M'].sum()"
   ]
  },
  {
   "cell_type": "markdown",
   "metadata": {},
   "source": [
    "This result implies that, if we sell 4116 of the racing socks, 2304 of Short-Sleeve Classic Jersey may likely buy by the same customer in Canada. "
   ]
  }
 ],
 "metadata": {
  "kernelspec": {
   "display_name": "Python 3",
   "language": "python",
   "name": "python3"
  },
  "language_info": {
   "codemirror_mode": {
    "name": "ipython",
    "version": 3
   },
   "file_extension": ".py",
   "mimetype": "text/x-python",
   "name": "python",
   "nbconvert_exporter": "python",
   "pygments_lexer": "ipython3",
   "version": "3.6.8"
  }
 },
 "nbformat": 4,
 "nbformat_minor": 2
}
